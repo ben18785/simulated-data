{
 "cells": [
  {
   "cell_type": "markdown",
   "metadata": {},
   "source": [
    "# Tumour growth\n",
    "\n",
    "In this exercise we are going to use simulated data from a model of tumour growth to investigate the identifiability of two of its parameters."
   ]
  },
  {
   "cell_type": "markdown",
   "metadata": {},
   "source": [
    "The differential equation:\n",
    "\n",
    "\\begin{equation}\n",
    "\\frac{dy}{dt} = \\alpha (1 - \\left(\\frac{y}{\\kappa}\\right)^\\nu)y,\n",
    "\\end{equation}\n",
    "\n",
    "where $y(0) = y_0$ is the initial condition. This system has a solution of the form:\n",
    "\n",
    "\\begin{equation}\n",
    "y(t) = \\frac{\\kappa}{\\left(1 + \\left(\\left(\\frac{\\kappa}{y_0}\\right)^\\nu - 1\\right)\\exp(-\\alpha \\nu t)\\right)^{1/\\nu}},\n",
    "\\end{equation}\n",
    "\n",
    "which results in a modified logistic-type curve that can be used to model tumour growth."
   ]
  },
  {
   "cell_type": "markdown",
   "metadata": {},
   "source": [
    "Write a function which can simulate from this model."
   ]
  },
  {
   "cell_type": "code",
   "execution_count": 1,
   "metadata": {
    "collapsed": true
   },
   "outputs": [],
   "source": [
    "import numpy as np\n",
    "import scipy\n",
    "import statsmodels.api as sm\n",
    "from plotnine import *\n",
    "import pandas as pd\n",
    "import matplotlib.pyplot as plt\n",
    "import scipy.stats"
   ]
  },
  {
   "cell_type": "code",
   "execution_count": 2,
   "metadata": {
    "collapsed": true
   },
   "outputs": [],
   "source": [
    "def logistic_growth(t, alpha, nu, kappa, y0):\n",
    "    Q = (kappa / y0)**nu - 1\n",
    "    denom = (1 + Q * np.exp(-alpha * nu * t))**(1 / nu)\n",
    "    return kappa / denom"
   ]
  },
  {
   "cell_type": "markdown",
   "metadata": {},
   "source": [
    "We first assume there is no noise in the system and that the outputs are measured a 20 uniform grid points between $t=0$ and $t=20$. Generate data assuming $\\alpha=1$, $\\nu=2$, $\\kappa=100$ and $y_0=1$."
   ]
  },
  {
   "cell_type": "code",
   "execution_count": 3,
   "metadata": {},
   "outputs": [
    {
     "data": {
      "image/png": "[encoded data removed]",
      "text/plain": [
       "<Figure size 432x288 with 1 Axes>"
      ]
     },
     "metadata": {
      "needs_background": "light"
     },
     "output_type": "display_data"
    }
   ],
   "source": [
    "t = np.linspace(0, 20, 20)\n",
    "y = [logistic_growth(ts, 1, 2, 100, 1) for ts in t]\n",
    "plt.scatter(t, y)\n",
    "plt.xlabel(\"t\")\n",
    "plt.ylabel(\"y\")\n",
    "plt.show()"
   ]
  },
  {
   "cell_type": "markdown",
   "metadata": {},
   "source": [
    "Write a function which takes these outputs, $y(t)$, and determines a root-mean-square (rmse) distance from the points to a model simulation with given values of $\\alpha, \\nu, \\kappa, y_0$. That is, we suppose there are errors:\n",
    "\n",
    "\\begin{equation}\n",
    "error(t) = y(t) - \\frac{\\kappa}{\\left(1 + \\left(\\left(\\frac{\\kappa}{y_0}\\right)^\\nu - 1\\right)\\exp(-\\alpha \\nu t)\\right)^{1/\\nu}},\n",
    "\\end{equation}\n",
    "\n",
    "which result in a sum of squared errors:\n",
    "\n",
    "\\begin{equation}\n",
    "sse = \\sum_{t=t_1}^{t=t_T} error(t)^2,\n",
    "\\end{equation}\n",
    "\n",
    "and a root-mean-square distance:\n",
    "\n",
    "\\begin{equation}\n",
    "rmse = \\sqrt{sse/T}.\n",
    "\\end{equation}"
   ]
  },
  {
   "cell_type": "code",
   "execution_count": 4,
   "metadata": {
    "collapsed": true
   },
   "outputs": [],
   "source": [
    "def rmse(y_true, t, alpha, nu, kappa, y0):\n",
    "    y_sim = [logistic_growth(ts, alpha, nu, kappa, y0) for ts in t]\n",
    "    y_diff = y_true - y_sim\n",
    "    sse = y_diff**2\n",
    "    return np.sqrt(np.mean(sse))"
   ]
  },
  {
   "cell_type": "markdown",
   "metadata": {},
   "source": [
    "Using your function, plot the rmse distance as you vary $\\alpha$ holding all the other parameters at their true values."
   ]
  },
  {
   "cell_type": "code",
   "execution_count": 5,
   "metadata": {},
   "outputs": [
    {
     "data": {
      "image/png": "[encoded data removed]",
      "text/plain": [
       "<Figure size 432x288 with 1 Axes>"
      ]
     },
     "metadata": {
      "needs_background": "light"
     },
     "output_type": "display_data"
    }
   ],
   "source": [
    "alpha = np.linspace(0, 10, 200)\n",
    "rmses = [rmse(np.array(y), t, alphas, 2, 100, 1) for alphas in alpha]\n",
    "plt.plot(alpha, rmses)\n",
    "plt.xlabel(\"alpha\")\n",
    "plt.ylabel(\"rmse\")\n",
    "plt.show()"
   ]
  },
  {
   "cell_type": "markdown",
   "metadata": {},
   "source": [
    "Now repeat the same exercise for $\\nu$."
   ]
  },
  {
   "cell_type": "code",
   "execution_count": 6,
   "metadata": {},
   "outputs": [
    {
     "data": {
      "image/png": "[encoded data removed]",
      "text/plain": [
       "<Figure size 432x288 with 1 Axes>"
      ]
     },
     "metadata": {
      "needs_background": "light"
     },
     "output_type": "display_data"
    }
   ],
   "source": [
    "nu = np.linspace(1, 5)\n",
    "rmses = [rmse(np.array(y), t, 1, nus, 100, 1) for nus in nu]\n",
    "plt.plot(nu, rmses)\n",
    "plt.xlabel(\"nu\")\n",
    "plt.ylabel(\"rmse\")\n",
    "plt.show()"
   ]
  },
  {
   "cell_type": "markdown",
   "metadata": {},
   "source": [
    "Draw a contour plot visualising the rmse surface when you vary both $\\alpha$ and $\\nu$."
   ]
  },
  {
   "cell_type": "code",
   "execution_count": 7,
   "metadata": {
    "collapsed": true
   },
   "outputs": [],
   "source": [
    "mesh = np.array(np.meshgrid(alpha, nu))\n",
    "combinations = mesh.T.reshape(-1, 2)\n",
    "df = pd.DataFrame({'alpha': combinations[:, 0], 'nu': combinations[:, 1]})\n",
    "rmses = []\n",
    "for i in range(len(df)):\n",
    "    df_short = df.iloc[i]\n",
    "    rmse_temp = rmse(np.array(y), t, df_short['alpha'], df_short['nu'], 100, 1)\n",
    "    rmses.append(rmse_temp)"
   ]
  },
  {
   "cell_type": "code",
   "execution_count": 8,
   "metadata": {},
   "outputs": [
    {
     "data": {
      "image/png": "[encoded data removed]",
      "text/plain": [
       "<Figure size 432x288 with 1 Axes>"
      ]
     },
     "metadata": {
      "needs_background": "light"
     },
     "output_type": "display_data"
    }
   ],
   "source": [
    "rmses1 = np.array(rmses)\n",
    "\n",
    "plt.contourf(nu, alpha, np.reshape(rmses1, [len(alpha), len(nu)], order='C'))\n",
    "plt.xlabel(\"nu\")\n",
    "plt.ylabel(\"alpha\")\n",
    "plt.show()"
   ]
  },
  {
   "cell_type": "markdown",
   "metadata": {},
   "source": [
    "What does this plot suggest about the relative identifiability of $\\alpha$ versus $\\nu$?"
   ]
  },
  {
   "cell_type": "markdown",
   "metadata": {},
   "source": [
    "The gradients are much stronger in the $\\alpha$ direction opposed to in the $\\nu$ direction, suggesting that it is likely to be better identified."
   ]
  },
  {
   "cell_type": "markdown",
   "metadata": {},
   "source": [
    "We are now going to assume that there is additive measurement noise on the data of the form:\n",
    "    \n",
    "\\begin{equation}\n",
    "\\tilde y(t) \\sim \\text{normal}(y(t), \\sigma),\n",
    "\\end{equation}\n",
    "\n",
    "where $\\sigma=20$."
   ]
  },
  {
   "cell_type": "markdown",
   "metadata": {},
   "source": [
    "Generate such noisy data using the same parameters and at the same time steps as before."
   ]
  },
  {
   "cell_type": "code",
   "execution_count": 9,
   "metadata": {},
   "outputs": [
    {
     "data": {
      "image/png": "[encoded data removed]",
      "text/plain": [
       "<Figure size 432x288 with 1 Axes>"
      ]
     },
     "metadata": {
      "needs_background": "light"
     },
     "output_type": "display_data"
    }
   ],
   "source": [
    "sigma = 10\n",
    "eta = np.random.normal(0, sigma, len(t))\n",
    "y_noise = y + eta\n",
    "plt.scatter(t, y_noise)\n",
    "plt.xlabel(\"t\")\n",
    "plt.ylabel(\"y\")\n",
    "plt.show()"
   ]
  },
  {
   "cell_type": "markdown",
   "metadata": {},
   "source": [
    "Using Scipy's `minimize` function, write a function that estimates $\\alpha$ and $\\nu$ holding all other parameters at their true values. Then use it to estimate the parameters."
   ]
  },
  {
   "cell_type": "code",
   "execution_count": 10,
   "metadata": {
    "collapsed": true
   },
   "outputs": [],
   "source": [
    "def rmse_2d(params):\n",
    "    alpha = params[0]\n",
    "    nu = params[1]\n",
    "    return rmse(y_noise, t, alpha, nu, 100, 1)\n",
    "\n",
    "def optimise(y_noise, t, kappa, y_0):\n",
    "    # here I start at the true values (as a bit of a cheat)\n",
    "    res = scipy.optimize.minimize(rmse_2d, [1, 2])\n",
    "    estimates = res['x']\n",
    "    alpha = estimates[0]\n",
    "    nu = estimates[1]\n",
    "    return alpha, nu"
   ]
  },
  {
   "cell_type": "markdown",
   "metadata": {},
   "source": [
    "Now performing the optimisation."
   ]
  },
  {
   "cell_type": "code",
   "execution_count": 11,
   "metadata": {},
   "outputs": [
    {
     "data": {
      "text/plain": [
       "(1.2785996626846425, 0.7601168389877347)"
      ]
     },
     "execution_count": 11,
     "metadata": {},
     "output_type": "execute_result"
    }
   ],
   "source": [
    "optimise(y_noise, t, 100, 1)"
   ]
  },
  {
   "cell_type": "markdown",
   "metadata": {},
   "source": [
    "Generate 200 replicates where, in each case, you generate noisy data as before and estimate the parameters. Graph the resultant estimates for $\\alpha$ and $\\nu$. What does this tell you about their identifiability?"
   ]
  },
  {
   "cell_type": "code",
   "execution_count": 12,
   "metadata": {
    "collapsed": true
   },
   "outputs": [],
   "source": [
    "def generate_then_optimise(t, alpha, nu, kappa, y0, sigma):\n",
    "    y = np.array([logistic_growth(ts, alpha, nu, kappa, y0) for ts in t])\n",
    "    eta = np.random.normal(0, sigma, len(t))\n",
    "    y_noise = y + eta\n",
    "    \n",
    "    def rmse_2d(params):\n",
    "        alpha = params[0]\n",
    "        nu = params[1]\n",
    "        return rmse(y_noise, t, alpha, nu, kappa, y0)\n",
    "    \n",
    "    def optimise(y_noise, t, kappa, y_0):\n",
    "        # here I start at the true values (as a bit of a cheat)\n",
    "        res = scipy.optimize.minimize(rmse_2d, [1, 2])\n",
    "        estimates = res['x']\n",
    "        alpha = estimates[0]\n",
    "        nu = estimates[1]\n",
    "        return alpha, nu\n",
    "    \n",
    "    return optimise(y_noise, t, kappa, y0)"
   ]
  },
  {
   "cell_type": "code",
   "execution_count": 13,
   "metadata": {},
   "outputs": [
    {
     "name": "stderr",
     "output_type": "stream",
     "text": [
      "/Users/appleuser/Library/Python/3.7/lib/python/site-packages/ipykernel_launcher.py:3: RuntimeWarning: invalid value encountered in double_scalars\n",
      "/Users/appleuser/Library/Python/3.7/lib/python/site-packages/ipykernel_launcher.py:3: RuntimeWarning: divide by zero encountered in double_scalars\n",
      "/Users/appleuser/Library/Python/3.7/lib/python/site-packages/ipykernel_launcher.py:3: RuntimeWarning: overflow encountered in exp\n",
      "/Users/appleuser/Library/Python/3.7/lib/python/site-packages/ipykernel_launcher.py:4: RuntimeWarning: divide by zero encountered in double_scalars\n",
      "/usr/local/lib/python3.7/site-packages/scipy/optimize/optimize.py:697: RuntimeWarning: invalid value encountered in double_scalars\n",
      "/Users/appleuser/Library/Python/3.7/lib/python/site-packages/ipykernel_launcher.py:3: RuntimeWarning: invalid value encountered in double_scalars\n",
      "/Users/appleuser/Library/Python/3.7/lib/python/site-packages/ipykernel_launcher.py:3: RuntimeWarning: divide by zero encountered in double_scalars\n",
      "/Users/appleuser/Library/Python/3.7/lib/python/site-packages/ipykernel_launcher.py:3: RuntimeWarning: overflow encountered in exp\n",
      "/Users/appleuser/Library/Python/3.7/lib/python/site-packages/ipykernel_launcher.py:4: RuntimeWarning: divide by zero encountered in double_scalars\n",
      "/Users/appleuser/Library/Python/3.7/lib/python/site-packages/ipykernel_launcher.py:3: RuntimeWarning: invalid value encountered in double_scalars\n",
      "/Users/appleuser/Library/Python/3.7/lib/python/site-packages/ipykernel_launcher.py:3: RuntimeWarning: divide by zero encountered in double_scalars\n",
      "/Users/appleuser/Library/Python/3.7/lib/python/site-packages/ipykernel_launcher.py:3: RuntimeWarning: overflow encountered in exp\n",
      "/Users/appleuser/Library/Python/3.7/lib/python/site-packages/ipykernel_launcher.py:4: RuntimeWarning: divide by zero encountered in double_scalars\n",
      "/usr/local/lib/python3.7/site-packages/scipy/optimize/optimize.py:697: RuntimeWarning: invalid value encountered in double_scalars\n",
      "/Users/appleuser/Library/Python/3.7/lib/python/site-packages/ipykernel_launcher.py:3: RuntimeWarning: invalid value encountered in double_scalars\n",
      "/Users/appleuser/Library/Python/3.7/lib/python/site-packages/ipykernel_launcher.py:3: RuntimeWarning: divide by zero encountered in double_scalars\n",
      "/Users/appleuser/Library/Python/3.7/lib/python/site-packages/ipykernel_launcher.py:3: RuntimeWarning: overflow encountered in exp\n",
      "/Users/appleuser/Library/Python/3.7/lib/python/site-packages/ipykernel_launcher.py:4: RuntimeWarning: divide by zero encountered in double_scalars\n",
      "/usr/local/lib/python3.7/site-packages/scipy/optimize/optimize.py:697: RuntimeWarning: invalid value encountered in double_scalars\n",
      "/Users/appleuser/Library/Python/3.7/lib/python/site-packages/ipykernel_launcher.py:3: RuntimeWarning: invalid value encountered in double_scalars\n",
      "/Users/appleuser/Library/Python/3.7/lib/python/site-packages/ipykernel_launcher.py:3: RuntimeWarning: divide by zero encountered in double_scalars\n",
      "/Users/appleuser/Library/Python/3.7/lib/python/site-packages/ipykernel_launcher.py:3: RuntimeWarning: overflow encountered in exp\n",
      "/Users/appleuser/Library/Python/3.7/lib/python/site-packages/ipykernel_launcher.py:4: RuntimeWarning: divide by zero encountered in double_scalars\n",
      "/Users/appleuser/Library/Python/3.7/lib/python/site-packages/ipykernel_launcher.py:3: RuntimeWarning: invalid value encountered in double_scalars\n",
      "/Users/appleuser/Library/Python/3.7/lib/python/site-packages/ipykernel_launcher.py:3: RuntimeWarning: divide by zero encountered in double_scalars\n",
      "/Users/appleuser/Library/Python/3.7/lib/python/site-packages/ipykernel_launcher.py:3: RuntimeWarning: overflow encountered in exp\n",
      "/Users/appleuser/Library/Python/3.7/lib/python/site-packages/ipykernel_launcher.py:4: RuntimeWarning: divide by zero encountered in double_scalars\n",
      "/usr/local/lib/python3.7/site-packages/scipy/optimize/optimize.py:697: RuntimeWarning: invalid value encountered in double_scalars\n",
      "/Users/appleuser/Library/Python/3.7/lib/python/site-packages/ipykernel_launcher.py:3: RuntimeWarning: invalid value encountered in double_scalars\n",
      "/Users/appleuser/Library/Python/3.7/lib/python/site-packages/ipykernel_launcher.py:3: RuntimeWarning: divide by zero encountered in double_scalars\n",
      "/Users/appleuser/Library/Python/3.7/lib/python/site-packages/ipykernel_launcher.py:3: RuntimeWarning: overflow encountered in exp\n",
      "/Users/appleuser/Library/Python/3.7/lib/python/site-packages/ipykernel_launcher.py:4: RuntimeWarning: divide by zero encountered in double_scalars\n",
      "/Users/appleuser/Library/Python/3.7/lib/python/site-packages/ipykernel_launcher.py:3: RuntimeWarning: invalid value encountered in double_scalars\n",
      "/Users/appleuser/Library/Python/3.7/lib/python/site-packages/ipykernel_launcher.py:3: RuntimeWarning: divide by zero encountered in double_scalars\n",
      "/Users/appleuser/Library/Python/3.7/lib/python/site-packages/ipykernel_launcher.py:3: RuntimeWarning: overflow encountered in exp\n",
      "/Users/appleuser/Library/Python/3.7/lib/python/site-packages/ipykernel_launcher.py:4: RuntimeWarning: divide by zero encountered in double_scalars\n",
      "/usr/local/lib/python3.7/site-packages/scipy/optimize/optimize.py:697: RuntimeWarning: invalid value encountered in double_scalars\n",
      "/Users/appleuser/Library/Python/3.7/lib/python/site-packages/ipykernel_launcher.py:3: RuntimeWarning: invalid value encountered in double_scalars\n",
      "/Users/appleuser/Library/Python/3.7/lib/python/site-packages/ipykernel_launcher.py:3: RuntimeWarning: divide by zero encountered in double_scalars\n",
      "/Users/appleuser/Library/Python/3.7/lib/python/site-packages/ipykernel_launcher.py:3: RuntimeWarning: overflow encountered in exp\n",
      "/Users/appleuser/Library/Python/3.7/lib/python/site-packages/ipykernel_launcher.py:4: RuntimeWarning: divide by zero encountered in double_scalars\n",
      "/Users/appleuser/Library/Python/3.7/lib/python/site-packages/ipykernel_launcher.py:2: RuntimeWarning: overflow encountered in double_scalars\n",
      "/Users/appleuser/Library/Python/3.7/lib/python/site-packages/ipykernel_launcher.py:3: RuntimeWarning: invalid value encountered in double_scalars\n",
      "/Users/appleuser/Library/Python/3.7/lib/python/site-packages/ipykernel_launcher.py:2: RuntimeWarning: overflow encountered in double_scalars\n",
      "/Users/appleuser/Library/Python/3.7/lib/python/site-packages/ipykernel_launcher.py:3: RuntimeWarning: invalid value encountered in double_scalars\n",
      "/Users/appleuser/Library/Python/3.7/lib/python/site-packages/ipykernel_launcher.py:2: RuntimeWarning: overflow encountered in double_scalars\n",
      "/Users/appleuser/Library/Python/3.7/lib/python/site-packages/ipykernel_launcher.py:3: RuntimeWarning: invalid value encountered in double_scalars\n",
      "/Users/appleuser/Library/Python/3.7/lib/python/site-packages/ipykernel_launcher.py:2: RuntimeWarning: overflow encountered in double_scalars\n",
      "/Users/appleuser/Library/Python/3.7/lib/python/site-packages/ipykernel_launcher.py:3: RuntimeWarning: invalid value encountered in double_scalars\n",
      "/Users/appleuser/Library/Python/3.7/lib/python/site-packages/ipykernel_launcher.py:2: RuntimeWarning: overflow encountered in double_scalars\n",
      "/Users/appleuser/Library/Python/3.7/lib/python/site-packages/ipykernel_launcher.py:3: RuntimeWarning: invalid value encountered in double_scalars\n",
      "/Users/appleuser/Library/Python/3.7/lib/python/site-packages/ipykernel_launcher.py:2: RuntimeWarning: overflow encountered in double_scalars\n",
      "/Users/appleuser/Library/Python/3.7/lib/python/site-packages/ipykernel_launcher.py:3: RuntimeWarning: invalid value encountered in double_scalars\n",
      "/Users/appleuser/Library/Python/3.7/lib/python/site-packages/ipykernel_launcher.py:2: RuntimeWarning: overflow encountered in double_scalars\n",
      "/Users/appleuser/Library/Python/3.7/lib/python/site-packages/ipykernel_launcher.py:3: RuntimeWarning: invalid value encountered in double_scalars\n",
      "/Users/appleuser/Library/Python/3.7/lib/python/site-packages/ipykernel_launcher.py:3: RuntimeWarning: overflow encountered in exp\n",
      "/Users/appleuser/Library/Python/3.7/lib/python/site-packages/ipykernel_launcher.py:2: RuntimeWarning: overflow encountered in double_scalars\n",
      "/Users/appleuser/Library/Python/3.7/lib/python/site-packages/ipykernel_launcher.py:3: RuntimeWarning: invalid value encountered in double_scalars\n",
      "/Users/appleuser/Library/Python/3.7/lib/python/site-packages/ipykernel_launcher.py:2: RuntimeWarning: overflow encountered in double_scalars\n",
      "/Users/appleuser/Library/Python/3.7/lib/python/site-packages/ipykernel_launcher.py:3: RuntimeWarning: invalid value encountered in double_scalars\n"
     ]
    },
    {
     "name": "stderr",
     "output_type": "stream",
     "text": [
      "/Users/appleuser/Library/Python/3.7/lib/python/site-packages/ipykernel_launcher.py:3: RuntimeWarning: invalid value encountered in double_scalars\n",
      "/Users/appleuser/Library/Python/3.7/lib/python/site-packages/ipykernel_launcher.py:3: RuntimeWarning: divide by zero encountered in double_scalars\n",
      "/Users/appleuser/Library/Python/3.7/lib/python/site-packages/ipykernel_launcher.py:3: RuntimeWarning: overflow encountered in exp\n",
      "/Users/appleuser/Library/Python/3.7/lib/python/site-packages/ipykernel_launcher.py:4: RuntimeWarning: divide by zero encountered in double_scalars\n",
      "/usr/local/lib/python3.7/site-packages/scipy/optimize/optimize.py:697: RuntimeWarning: invalid value encountered in double_scalars\n",
      "/Users/appleuser/Library/Python/3.7/lib/python/site-packages/ipykernel_launcher.py:2: RuntimeWarning: overflow encountered in double_scalars\n",
      "/Users/appleuser/Library/Python/3.7/lib/python/site-packages/ipykernel_launcher.py:3: RuntimeWarning: invalid value encountered in double_scalars\n",
      "/Users/appleuser/Library/Python/3.7/lib/python/site-packages/ipykernel_launcher.py:2: RuntimeWarning: overflow encountered in double_scalars\n",
      "/Users/appleuser/Library/Python/3.7/lib/python/site-packages/ipykernel_launcher.py:3: RuntimeWarning: invalid value encountered in double_scalars\n",
      "/Users/appleuser/Library/Python/3.7/lib/python/site-packages/ipykernel_launcher.py:2: RuntimeWarning: overflow encountered in double_scalars\n",
      "/Users/appleuser/Library/Python/3.7/lib/python/site-packages/ipykernel_launcher.py:3: RuntimeWarning: invalid value encountered in double_scalars\n",
      "/Users/appleuser/Library/Python/3.7/lib/python/site-packages/ipykernel_launcher.py:3: RuntimeWarning: overflow encountered in exp\n",
      "/Users/appleuser/Library/Python/3.7/lib/python/site-packages/ipykernel_launcher.py:2: RuntimeWarning: overflow encountered in double_scalars\n",
      "/Users/appleuser/Library/Python/3.7/lib/python/site-packages/ipykernel_launcher.py:3: RuntimeWarning: invalid value encountered in double_scalars\n",
      "/Users/appleuser/Library/Python/3.7/lib/python/site-packages/ipykernel_launcher.py:2: RuntimeWarning: overflow encountered in double_scalars\n",
      "/Users/appleuser/Library/Python/3.7/lib/python/site-packages/ipykernel_launcher.py:3: RuntimeWarning: invalid value encountered in double_scalars\n",
      "/Users/appleuser/Library/Python/3.7/lib/python/site-packages/ipykernel_launcher.py:2: RuntimeWarning: overflow encountered in double_scalars\n",
      "/Users/appleuser/Library/Python/3.7/lib/python/site-packages/ipykernel_launcher.py:3: RuntimeWarning: invalid value encountered in double_scalars\n",
      "/Users/appleuser/Library/Python/3.7/lib/python/site-packages/ipykernel_launcher.py:2: RuntimeWarning: overflow encountered in double_scalars\n",
      "/Users/appleuser/Library/Python/3.7/lib/python/site-packages/ipykernel_launcher.py:3: RuntimeWarning: invalid value encountered in double_scalars\n",
      "/Users/appleuser/Library/Python/3.7/lib/python/site-packages/ipykernel_launcher.py:2: RuntimeWarning: overflow encountered in double_scalars\n",
      "/Users/appleuser/Library/Python/3.7/lib/python/site-packages/ipykernel_launcher.py:3: RuntimeWarning: invalid value encountered in double_scalars\n",
      "/Users/appleuser/Library/Python/3.7/lib/python/site-packages/ipykernel_launcher.py:2: RuntimeWarning: overflow encountered in double_scalars\n",
      "/Users/appleuser/Library/Python/3.7/lib/python/site-packages/ipykernel_launcher.py:3: RuntimeWarning: invalid value encountered in double_scalars\n",
      "/Users/appleuser/Library/Python/3.7/lib/python/site-packages/ipykernel_launcher.py:3: RuntimeWarning: invalid value encountered in double_scalars\n",
      "/Users/appleuser/Library/Python/3.7/lib/python/site-packages/ipykernel_launcher.py:3: RuntimeWarning: divide by zero encountered in double_scalars\n",
      "/Users/appleuser/Library/Python/3.7/lib/python/site-packages/ipykernel_launcher.py:3: RuntimeWarning: overflow encountered in exp\n",
      "/Users/appleuser/Library/Python/3.7/lib/python/site-packages/ipykernel_launcher.py:4: RuntimeWarning: divide by zero encountered in double_scalars\n",
      "/usr/local/lib/python3.7/site-packages/scipy/optimize/optimize.py:697: RuntimeWarning: invalid value encountered in double_scalars\n",
      "/Users/appleuser/Library/Python/3.7/lib/python/site-packages/ipykernel_launcher.py:3: RuntimeWarning: invalid value encountered in double_scalars\n",
      "/Users/appleuser/Library/Python/3.7/lib/python/site-packages/ipykernel_launcher.py:3: RuntimeWarning: divide by zero encountered in double_scalars\n",
      "/Users/appleuser/Library/Python/3.7/lib/python/site-packages/ipykernel_launcher.py:3: RuntimeWarning: overflow encountered in exp\n",
      "/Users/appleuser/Library/Python/3.7/lib/python/site-packages/ipykernel_launcher.py:4: RuntimeWarning: divide by zero encountered in double_scalars\n"
     ]
    }
   ],
   "source": [
    "nreplicates = 200\n",
    "alpha_est = []\n",
    "nu_est = []\n",
    "for i in range(nreplicates):\n",
    "    alpha_temp, nu_temp = generate_then_optimise(t, 1, 2, 100, 1, 10)\n",
    "    alpha_est.append(alpha_temp)\n",
    "    nu_est.append(nu_temp)"
   ]
  },
  {
   "cell_type": "markdown",
   "metadata": {},
   "source": [
    "It appears that $\\alpha$ is much more identifiable from the data than $\\nu$."
   ]
  },
  {
   "cell_type": "code",
   "execution_count": 14,
   "metadata": {},
   "outputs": [
    {
     "name": "stderr",
     "output_type": "stream",
     "text": [
      "/usr/local/lib/python3.7/site-packages/plotnine/stats/stat_bin.py:93: PlotnineWarning: 'stat_bin()' using 'bins = 59'. Pick better value with 'binwidth'.\n"
     ]
    },
    {
     "data": {
      "image/png": "[encoded data removed]",
      "text/plain": [
       "<Figure size 640x480 with 2 Axes>"
      ]
     },
     "metadata": {},
     "output_type": "display_data"
    },
    {
     "data": {
      "text/plain": [
       "<ggplot: (347340065)>"
      ]
     },
     "execution_count": 14,
     "metadata": {},
     "output_type": "execute_result"
    }
   ],
   "source": [
    "df = pd.DataFrame({'alpha': alpha_est, 'nu': nu_est})\n",
    "df = pd.melt(df)\n",
    "(ggplot(df, aes(x='value')) +\n",
    " geom_histogram() +\n",
    " scale_x_log10() +\n",
    " facet_wrap('variable'))"
   ]
  }
 ],
 "metadata": {
  "kernelspec": {
   "display_name": "Python 3",
   "language": "python",
   "name": "python3"
  },
  "language_info": {
   "codemirror_mode": {
    "name": "ipython",
    "version": 3
   },
   "file_extension": ".py",
   "mimetype": "text/x-python",
   "name": "python",
   "nbconvert_exporter": "python",
   "pygments_lexer": "ipython3",
   "version": "3.7.7"
  }
 },
 "nbformat": 4,
 "nbformat_minor": 2
}
