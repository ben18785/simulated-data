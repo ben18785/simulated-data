{
 "cells": [
  {
   "cell_type": "markdown",
   "metadata": {},
   "source": [
    "# Time series regression"
   ]
  },
  {
   "cell_type": "markdown",
   "metadata": {},
   "source": [
    "In this example, we are going to generate time series to illustrate how to perform a simulation-based analysis to determine the risk of false positives in regression."
   ]
  },
  {
   "cell_type": "markdown",
   "metadata": {},
   "source": [
    "Write a function which generates data as per an autoregressive process:\n",
    "\n",
    "$X_t = \\rho X_{t-1} + \\epsilon_t,$\n",
    "\n",
    "where $\\epsilon_t \\sim N(0, \\sigma)$, $X_0=0$ and $t=1,...,T$.\n",
    "\n",
    "Your function should take as arguments: $\\rho$, $T$ and $\\sigma$. Note that here we are assuming $0\\leq\\rho\\leq 1$."
   ]
  },
  {
   "cell_type": "markdown",
   "metadata": {},
   "source": [
    "Plot a few realisations of the process. What happens as you change $\\rho$?"
   ]
  },
  {
   "cell_type": "markdown",
   "metadata": {},
   "source": [
    "Write a function which generates two (independent) ar1 processes, $\\{X_t\\}$ and $\\{Y_t\\}$ and performs a linear regression of one on the other:\n",
    "\n",
    "$Y_t = \\alpha + \\beta X_t + \\epsilon_t$\n",
    "\n",
    "Let the function return both $\\beta$ and the $p$-value associated with it."
   ]
  },
  {
   "cell_type": "markdown",
   "metadata": {},
   "source": [
    "What value do you expect $\\beta$ to be?"
   ]
  },
  {
   "cell_type": "markdown",
   "metadata": {},
   "source": [
    "Suppose $\\rho=0$. Carry out 1000 regressions where $T=100$ and $\\sigma=0.5$ using your above function, in each case storing the values of $\\beta$ and the $p$-values."
   ]
  },
  {
   "cell_type": "markdown",
   "metadata": {},
   "source": [
    "What's the mean value of $\\beta$ across all the iterates?"
   ]
  },
  {
   "cell_type": "markdown",
   "metadata": {},
   "source": [
    "What are proportion of cases do you reject the null hypothesis at the $5\\%$ level?"
   ]
  },
  {
   "cell_type": "markdown",
   "metadata": {},
   "source": [
    "Now repeat the exercise but assuming $\\rho=1$. What's the mean $\\beta$ value now?"
   ]
  },
  {
   "cell_type": "markdown",
   "metadata": {},
   "source": [
    "Now, what are proportion of cases do you reject the null hypothesis at the $5\\%$ level?"
   ]
  },
  {
   "cell_type": "markdown",
   "metadata": {},
   "source": [
    "From this, what do you conclude about the statistical test?"
   ]
  },
  {
   "cell_type": "markdown",
   "metadata": {},
   "source": [
    "Bonus question: what do you conclude about conducting regression analyses of time series data?"
   ]
  }
 ],
 "metadata": {
  "kernelspec": {
   "display_name": "Python 3",
   "language": "python",
   "name": "python3"
  },
  "language_info": {
   "codemirror_mode": {
    "name": "ipython",
    "version": 3
   },
   "file_extension": ".py",
   "mimetype": "text/x-python",
   "name": "python",
   "nbconvert_exporter": "python",
   "pygments_lexer": "ipython3",
   "version": "3.7.7"
  }
 },
 "nbformat": 4,
 "nbformat_minor": 2
}
