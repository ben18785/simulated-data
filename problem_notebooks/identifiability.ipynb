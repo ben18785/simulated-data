{
 "cells": [
  {
   "cell_type": "markdown",
   "metadata": {},
   "source": [
    "# Assessing identifiability using simulated data"
   ]
  },
  {
   "cell_type": "markdown",
   "metadata": {},
   "source": [
    "In this example, we are going to assess practical identifiability of the following regression model:\n",
    "\n",
    "$$y_i \\sim \\beta_1 x + \\beta_2 x^2 + \\epsilon_i,$$\n",
    "\n",
    "where $\\epsilon_i\\sim N(0, \\sigma)$ represents a random error term."
   ]
  },
  {
   "cell_type": "code",
   "execution_count": 3,
   "metadata": {
    "collapsed": true
   },
   "outputs": [],
   "source": [
    "import numpy as np\n",
    "import scipy\n",
    "import statsmodels.api as sm\n",
    "from plotnine import *\n",
    "import pandas as pd\n",
    "import matplotlib.pyplot as plt\n",
    "import scipy.stats"
   ]
  },
  {
   "cell_type": "code",
   "execution_count": 44,
   "metadata": {
    "collapsed": true
   },
   "outputs": [],
   "source": [
    "def regression_model(x, alpha, beta_1, beta_2):\n",
    "    return alpha + beta_1 * x + beta_2 * x**2"
   ]
  },
  {
   "cell_type": "code",
   "execution_count": 45,
   "metadata": {
    "collapsed": true
   },
   "outputs": [],
   "source": [
    "n = 200\n",
    "x = np.random.normal(0, 2, n)"
   ]
  },
  {
   "cell_type": "code",
   "execution_count": 70,
   "metadata": {
    "collapsed": true
   },
   "outputs": [],
   "source": [
    "alpha = 0\n",
    "beta_1 = 1\n",
    "beta_2 = 0.1\n",
    "y = [regression_model(xs, alpha, beta_1, beta_2) for xs in x]\n",
    "sigma = 2\n",
    "eta = np.random.normal(0, sigma, n)\n",
    "y_noise = y + eta"
   ]
  },
  {
   "cell_type": "code",
   "execution_count": 71,
   "metadata": {},
   "outputs": [
    {
     "data": {
      "image/png": "[encoded data removed]",
      "text/plain": [
       "<Figure size 432x288 with 1 Axes>"
      ]
     },
     "metadata": {
      "needs_background": "light"
     },
     "output_type": "display_data"
    }
   ],
   "source": [
    "plt.scatter(x, y_noise)\n",
    "plt.show()"
   ]
  },
  {
   "cell_type": "code",
   "execution_count": 72,
   "metadata": {
    "collapsed": true
   },
   "outputs": [],
   "source": [
    "df = pd.DataFrame({'y': y_noise, 'x': x})\n",
    "df['xsq'] = df['x']**2"
   ]
  },
  {
   "cell_type": "code",
   "execution_count": 73,
   "metadata": {},
   "outputs": [],
   "source": [
    "X = df[[\"x\", \"xsq\"]]\n",
    "X = sm.add_constant(X, prepend=False)\n",
    "model = sm.OLS(df['y'], X)\n",
    "fit = model.fit()\n",
    "params = fit.params[0:3]\n",
    "\n",
    "coeff = fit.params\n",
    "p = fit.pvalues"
   ]
  },
  {
   "cell_type": "code",
   "execution_count": 74,
   "metadata": {},
   "outputs": [
    {
     "data": {
      "text/html": [
       "<table class=\"simpletable\">\n",
       "<caption>OLS Regression Results</caption>\n",
       "<tr>\n",
       "  <th>Dep. Variable:</th>            <td>y</td>        <th>  R-squared:         </th> <td>   0.511</td>\n",
       "</tr>\n",
       "<tr>\n",
       "  <th>Model:</th>                   <td>OLS</td>       <th>  Adj. R-squared:    </th> <td>   0.506</td>\n",
       "</tr>\n",
       "<tr>\n",
       "  <th>Method:</th>             <td>Least Squares</td>  <th>  F-statistic:       </th> <td>   102.8</td>\n",
       "</tr>\n",
       "<tr>\n",
       "  <th>Date:</th>             <td>Fri, 18 Jun 2021</td> <th>  Prob (F-statistic):</th> <td>2.72e-31</td>\n",
       "</tr>\n",
       "<tr>\n",
       "  <th>Time:</th>                 <td>11:30:06</td>     <th>  Log-Likelihood:    </th> <td> -431.74</td>\n",
       "</tr>\n",
       "<tr>\n",
       "  <th>No. Observations:</th>      <td>   200</td>      <th>  AIC:               </th> <td>   869.5</td>\n",
       "</tr>\n",
       "<tr>\n",
       "  <th>Df Residuals:</th>          <td>   197</td>      <th>  BIC:               </th> <td>   879.4</td>\n",
       "</tr>\n",
       "<tr>\n",
       "  <th>Df Model:</th>              <td>     2</td>      <th>                     </th>     <td> </td>   \n",
       "</tr>\n",
       "<tr>\n",
       "  <th>Covariance Type:</th>      <td>nonrobust</td>    <th>                     </th>     <td> </td>   \n",
       "</tr>\n",
       "</table>\n",
       "<table class=\"simpletable\">\n",
       "<tr>\n",
       "    <td></td>       <th>coef</th>     <th>std err</th>      <th>t</th>      <th>P>|t|</th>  <th>[0.025</th>    <th>0.975]</th>  \n",
       "</tr>\n",
       "<tr>\n",
       "  <th>x</th>     <td>    1.0022</td> <td>    0.072</td> <td>   13.896</td> <td> 0.000</td> <td>    0.860</td> <td>    1.144</td>\n",
       "</tr>\n",
       "<tr>\n",
       "  <th>xsq</th>   <td>    0.0788</td> <td>    0.025</td> <td>    3.094</td> <td> 0.002</td> <td>    0.029</td> <td>    0.129</td>\n",
       "</tr>\n",
       "<tr>\n",
       "  <th>const</th> <td>   -0.1067</td> <td>    0.185</td> <td>   -0.577</td> <td> 0.565</td> <td>   -0.472</td> <td>    0.258</td>\n",
       "</tr>\n",
       "</table>\n",
       "<table class=\"simpletable\">\n",
       "<tr>\n",
       "  <th>Omnibus:</th>       <td> 1.063</td> <th>  Durbin-Watson:     </th> <td>   1.933</td>\n",
       "</tr>\n",
       "<tr>\n",
       "  <th>Prob(Omnibus):</th> <td> 0.588</td> <th>  Jarque-Bera (JB):  </th> <td>   1.103</td>\n",
       "</tr>\n",
       "<tr>\n",
       "  <th>Skew:</th>          <td>-0.086</td> <th>  Prob(JB):          </th> <td>   0.576</td>\n",
       "</tr>\n",
       "<tr>\n",
       "  <th>Kurtosis:</th>      <td> 2.679</td> <th>  Cond. No.          </th> <td>    9.06</td>\n",
       "</tr>\n",
       "</table><br/><br/>Warnings:<br/>[1] Standard Errors assume that the covariance matrix of the errors is correctly specified."
      ],
      "text/plain": [
       "<class 'statsmodels.iolib.summary.Summary'>\n",
       "\"\"\"\n",
       "                            OLS Regression Results                            \n",
       "==============================================================================\n",
       "Dep. Variable:                      y   R-squared:                       0.511\n",
       "Model:                            OLS   Adj. R-squared:                  0.506\n",
       "Method:                 Least Squares   F-statistic:                     102.8\n",
       "Date:                Fri, 18 Jun 2021   Prob (F-statistic):           2.72e-31\n",
       "Time:                        11:30:06   Log-Likelihood:                -431.74\n",
       "No. Observations:                 200   AIC:                             869.5\n",
       "Df Residuals:                     197   BIC:                             879.4\n",
       "Df Model:                           2                                         \n",
       "Covariance Type:            nonrobust                                         \n",
       "==============================================================================\n",
       "                 coef    std err          t      P>|t|      [0.025      0.975]\n",
       "------------------------------------------------------------------------------\n",
       "x              1.0022      0.072     13.896      0.000       0.860       1.144\n",
       "xsq            0.0788      0.025      3.094      0.002       0.029       0.129\n",
       "const         -0.1067      0.185     -0.577      0.565      -0.472       0.258\n",
       "==============================================================================\n",
       "Omnibus:                        1.063   Durbin-Watson:                   1.933\n",
       "Prob(Omnibus):                  0.588   Jarque-Bera (JB):                1.103\n",
       "Skew:                          -0.086   Prob(JB):                        0.576\n",
       "Kurtosis:                       2.679   Cond. No.                         9.06\n",
       "==============================================================================\n",
       "\n",
       "Warnings:\n",
       "[1] Standard Errors assume that the covariance matrix of the errors is correctly specified.\n",
       "\"\"\""
      ]
     },
     "execution_count": 74,
     "metadata": {},
     "output_type": "execute_result"
    }
   ],
   "source": [
    "fit.summary()"
   ]
  },
  {
   "cell_type": "markdown",
   "metadata": {},
   "source": [
    "# Tumour growth\n"
   ]
  },
  {
   "cell_type": "markdown",
   "metadata": {},
   "source": [
    "The differential equation:\n",
    "\n",
    "\\begin{equation}\n",
    "\\frac{dy}{dt} = \\alpha (1 - \\left(\\frac{y}{\\kappa}\\right)^\\nu)y,\n",
    "\\end{equation}\n",
    "\n",
    "where $y(0) = y_0$ is the initial condition has a solution of the form:\n",
    "\n",
    "\\begin{equation}\n",
    "y(t) = \\frac{\\kappa}{\\left(1 + \\left(\\left(\\frac{\\kappa}{y_0}\\right)^\\nu - 1\\right)\\exp(-\\alpha \\nu t)\\right)^{1/\\nu}},\n",
    "\\end{equation}\n",
    "\n",
    "which results in a modified logistic-type cuve that can be used to model tumour growth."
   ]
  },
  {
   "cell_type": "markdown",
   "metadata": {},
   "source": [
    "Write a function which can simulate from this model."
   ]
  },
  {
   "cell_type": "code",
   "execution_count": 167,
   "metadata": {
    "collapsed": true
   },
   "outputs": [],
   "source": [
    "def logistic_growth(t, alpha, nu, kappa, y0):\n",
    "    Q = (kappa / y0)**nu - 1\n",
    "    denom = (1 + Q * np.exp(-alpha * nu * t))**(1 / nu)\n",
    "    return kappa / denom"
   ]
  },
  {
   "cell_type": "markdown",
   "metadata": {},
   "source": [
    "We first assume there is no noise in the system and that the outputs are measured a 20 uniform grid points between $t=0$ and $t=20$. Generate data assuming $\\alpha=1$, $\\nu=2$, $\\kappa=100$ and $y_0=1$."
   ]
  },
  {
   "cell_type": "code",
   "execution_count": 195,
   "metadata": {},
   "outputs": [
    {
     "data": {
      "image/png": "[encoded data removed]",
      "text/plain": [
       "<Figure size 432x288 with 1 Axes>"
      ]
     },
     "metadata": {
      "needs_background": "light"
     },
     "output_type": "display_data"
    }
   ],
   "source": [
    "t = np.linspace(0, 20, 20)\n",
    "y = [logistic_growth(ts, 1, 2, 100, 1) for ts in t]\n",
    "plt.scatter(t, y)\n",
    "plt.show()"
   ]
  },
  {
   "cell_type": "markdown",
   "metadata": {},
   "source": [
    "Write a function which takes these outputs, $y(t)$, and determines a root-mean-square (rmse) distance from the points to a model simulation with given values of $\\alpha, \\nu, \\kappa, y_0$. That is, we suppose there are errors:\n",
    "\n",
    "\\begin{equation}\n",
    "error(t) = y(t) - \\frac{\\kappa}{\\left(1 + \\left(\\left(\\frac{\\kappa}{y_0}\\right)^\\nu - 1\\right)\\exp(-\\alpha \\nu t)\\right)^{1/\\nu}},\n",
    "\\end{equation}\n",
    "\n",
    "which result in a sum of squared errors:\n",
    "\n",
    "\\begin{equation}\n",
    "sse = \\sum_{t=t_1}^{t=t_T} error(t)^2,\n",
    "\\end{equation}\n",
    "\n",
    "and a root-mean-square distance:\n",
    "\n",
    "\\begin{equation}\n",
    "rmse = \\sqrt{sse/T}.\n",
    "\\end{equation}"
   ]
  },
  {
   "cell_type": "code",
   "execution_count": 228,
   "metadata": {
    "collapsed": true
   },
   "outputs": [],
   "source": [
    "def rmse(y_true, t, alpha, nu, kappa, y0):\n",
    "    y_sim = [logistic_growth(ts, alpha, nu, kappa, y0) for ts in t]\n",
    "    y_diff = y_true - y_sim\n",
    "    sse = y_diff**2\n",
    "    return np.sqrt(np.mean(sse))"
   ]
  },
  {
   "cell_type": "markdown",
   "metadata": {},
   "source": [
    "Using your function, determine the rmse distance as you vary $\\alpha$ holding all the other parameters at their true values."
   ]
  },
  {
   "cell_type": "code",
   "execution_count": 229,
   "metadata": {},
   "outputs": [
    {
     "data": {
      "image/png": "[encoded data removed]",
      "text/plain": [
       "<Figure size 432x288 with 1 Axes>"
      ]
     },
     "metadata": {
      "needs_background": "light"
     },
     "output_type": "display_data"
    }
   ],
   "source": [
    "alpha = np.linspace(0, 10, 200)\n",
    "rmses = [rmse(np.array(y), t, alphas, 2, 100, 1) for alphas in alpha]\n",
    "plt.plot(alpha, rmses)\n",
    "plt.show()"
   ]
  },
  {
   "cell_type": "markdown",
   "metadata": {},
   "source": [
    "Now repeat the same exercise for $\\nu$."
   ]
  },
  {
   "cell_type": "code",
   "execution_count": 230,
   "metadata": {},
   "outputs": [
    {
     "data": {
      "image/png": "[encoded data removed]",
      "text/plain": [
       "<Figure size 432x288 with 1 Axes>"
      ]
     },
     "metadata": {
      "needs_background": "light"
     },
     "output_type": "display_data"
    }
   ],
   "source": [
    "nu = np.linspace(1, 5)\n",
    "rmses = [rmse(np.array(y), t, 1, nus, 100, 1) for nus in nu]\n",
    "plt.plot(nu, rmses)\n",
    "plt.show()"
   ]
  },
  {
   "cell_type": "markdown",
   "metadata": {},
   "source": [
    "Draw a contour plot visualising the rmse surface when you vary both $\\alpha$ and $\\nu$."
   ]
  },
  {
   "cell_type": "code",
   "execution_count": 233,
   "metadata": {},
   "outputs": [],
   "source": [
    "mesh = np.array(np.meshgrid(alpha, nu))\n",
    "combinations = mesh.T.reshape(-1, 2)\n",
    "df = pd.DataFrame({'alpha': combinations[:, 0], 'nu': combinations[:, 1]})\n",
    "rmses = []\n",
    "for i in range(len(df)):\n",
    "    df_short = df.iloc[i]\n",
    "    rmse_temp = rmse(np.array(y), t, df_short['alpha'], df_short['nu'], 100, 1)\n",
    "    rmses.append(rmse_temp)"
   ]
  },
  {
   "cell_type": "code",
   "execution_count": 240,
   "metadata": {},
   "outputs": [
    {
     "data": {
      "image/png": "[encoded data removed]",
      "text/plain": [
       "<Figure size 432x288 with 1 Axes>"
      ]
     },
     "metadata": {
      "needs_background": "light"
     },
     "output_type": "display_data"
    }
   ],
   "source": [
    "rmses1 = np.array(rmses)\n",
    "\n",
    "plt.contourf(nu, alpha, np.reshape(rmses1, [len(alpha), len(nu)], order='C'))\n",
    "plt.show()"
   ]
  },
  {
   "cell_type": "markdown",
   "metadata": {},
   "source": [
    "What does this plot suggest about the relative identifiability of $\\alpha$ versus $\\nu$?"
   ]
  },
  {
   "cell_type": "markdown",
   "metadata": {},
   "source": [
    "The gradients are much stronger in the $\\alpha$ direction opposed to in the $\\nu$ direction, suggesting that it is likely to be better identified."
   ]
  },
  {
   "cell_type": "markdown",
   "metadata": {},
   "source": [
    "We are now going to assume that there is additive measurement noise on the data of the form:\n",
    "    \n",
    "\\begin{equation}\n",
    "\\tilde y(t) \\sim \\text{normal}(y(t), \\sigma),\n",
    "\\end{equation}\n",
    "\n",
    "where $\\sigma=20$."
   ]
  },
  {
   "cell_type": "markdown",
   "metadata": {},
   "source": [
    "Generate such noisy data using the same parameters and at the same time steps as before."
   ]
  },
  {
   "cell_type": "code",
   "execution_count": 293,
   "metadata": {},
   "outputs": [
    {
     "data": {
      "image/png": "[encoded data removed]",
      "text/plain": [
       "<Figure size 432x288 with 1 Axes>"
      ]
     },
     "metadata": {
      "needs_background": "light"
     },
     "output_type": "display_data"
    }
   ],
   "source": [
    "sigma = 10\n",
    "eta = np.random.normal(0, sigma, len(t))\n",
    "y_noise = y + eta\n",
    "plt.scatter(t, y_noise)\n",
    "plt.show()"
   ]
  },
  {
   "cell_type": "markdown",
   "metadata": {},
   "source": [
    "Using Scipy's `minimize` function, write a function that estimates $\\alpha$ and $\\nu$ holding all other parameters at their true values. Then use it to estimate the parameters."
   ]
  },
  {
   "cell_type": "code",
   "execution_count": 294,
   "metadata": {
    "collapsed": true
   },
   "outputs": [],
   "source": [
    "def rmse_2d(params):\n",
    "    alpha = params[0]\n",
    "    nu = params[1]\n",
    "    return rmse(y_noise, t, alpha, nu, 100, 1)\n",
    "\n",
    "def optimise(y_noise, t, kappa, y_0):\n",
    "    # here I start at the true values (as a bit of a cheat)\n",
    "    res = scipy.optimize.minimize(rmse_2d, [1, 2])\n",
    "    estimates = res['x']\n",
    "    alpha = estimates[0]\n",
    "    nu = estimates[1]\n",
    "    return alpha, nu"
   ]
  },
  {
   "cell_type": "markdown",
   "metadata": {},
   "source": [
    "Now performing the optimisation."
   ]
  },
  {
   "cell_type": "code",
   "execution_count": 295,
   "metadata": {},
   "outputs": [
    {
     "data": {
      "text/plain": [
       "(1.0271609835243576, 1.3372925022054263)"
      ]
     },
     "execution_count": 295,
     "metadata": {},
     "output_type": "execute_result"
    }
   ],
   "source": [
    "optimise(y_noise, t, 100, 1)"
   ]
  },
  {
   "cell_type": "markdown",
   "metadata": {},
   "source": [
    "Generate 100 replicates where, in each case, you generate noisy data as before and estimate the parameters. Graph the resultant estimates for $\\alpha$ and $\\nu$. What does this tell you about their identifiability?"
   ]
  },
  {
   "cell_type": "code",
   "execution_count": 303,
   "metadata": {
    "collapsed": true
   },
   "outputs": [],
   "source": [
    "def generate_then_optimise(t, alpha, nu, kappa, y0, sigma):\n",
    "    y = np.array([logistic_growth(ts, alpha, nu, kappa, y0) for ts in t])\n",
    "    eta = np.random.normal(0, sigma, len(t))\n",
    "    y_noise = y + eta\n",
    "    \n",
    "    def rmse_2d(params):\n",
    "        alpha = params[0]\n",
    "        nu = params[1]\n",
    "        return rmse(y_noise, t, alpha, nu, kappa, y0)\n",
    "    \n",
    "    def optimise(y_noise, t, kappa, y_0):\n",
    "        # here I start at the true values (as a bit of a cheat)\n",
    "        res = scipy.optimize.minimize(rmse_2d, [1, 2])\n",
    "        estimates = res['x']\n",
    "        alpha = estimates[0]\n",
    "        nu = estimates[1]\n",
    "        return alpha, nu\n",
    "    \n",
    "    return optimise(y_noise, t, kappa, y0)"
   ]
  },
  {
   "cell_type": "code",
   "execution_count": 329,
   "metadata": {},
   "outputs": [
    {
     "name": "stderr",
     "output_type": "stream",
     "text": [
      "/Users/appleuser/Library/Python/3.7/lib/python/site-packages/ipykernel_launcher.py:3: RuntimeWarning: invalid value encountered in double_scalars\n",
      "/Users/appleuser/Library/Python/3.7/lib/python/site-packages/ipykernel_launcher.py:3: RuntimeWarning: divide by zero encountered in double_scalars\n",
      "/Users/appleuser/Library/Python/3.7/lib/python/site-packages/ipykernel_launcher.py:3: RuntimeWarning: overflow encountered in exp\n",
      "/Users/appleuser/Library/Python/3.7/lib/python/site-packages/ipykernel_launcher.py:4: RuntimeWarning: divide by zero encountered in double_scalars\n",
      "/usr/local/lib/python3.7/site-packages/scipy/optimize/optimize.py:697: RuntimeWarning: invalid value encountered in double_scalars\n",
      "/Users/appleuser/Library/Python/3.7/lib/python/site-packages/ipykernel_launcher.py:3: RuntimeWarning: invalid value encountered in double_scalars\n",
      "/Users/appleuser/Library/Python/3.7/lib/python/site-packages/ipykernel_launcher.py:3: RuntimeWarning: divide by zero encountered in double_scalars\n",
      "/Users/appleuser/Library/Python/3.7/lib/python/site-packages/ipykernel_launcher.py:3: RuntimeWarning: overflow encountered in exp\n",
      "/Users/appleuser/Library/Python/3.7/lib/python/site-packages/ipykernel_launcher.py:4: RuntimeWarning: divide by zero encountered in double_scalars\n",
      "/usr/local/lib/python3.7/site-packages/scipy/optimize/optimize.py:697: RuntimeWarning: invalid value encountered in double_scalars\n"
     ]
    }
   ],
   "source": [
    "nreplicates = 200\n",
    "alpha_est = []\n",
    "nu_est = []\n",
    "for i in range(len(df)):\n",
    "    alpha_temp, nu_temp = generate_then_optimise(t, 1, 2, 100, 1, 10)\n",
    "    alpha_est.append(alpha_temp)\n",
    "    nu_est.append(nu_temp)"
   ]
  },
  {
   "cell_type": "markdown",
   "metadata": {},
   "source": [
    "It appears that $\\alpha$ is much more identifiable from the data than $\\nu$."
   ]
  },
  {
   "cell_type": "code",
   "execution_count": 334,
   "metadata": {},
   "outputs": [
    {
     "name": "stderr",
     "output_type": "stream",
     "text": [
      "/usr/local/lib/python3.7/site-packages/plotnine/stats/stat_bin.py:93: PlotnineWarning: 'stat_bin()' using 'bins = 24'. Pick better value with 'binwidth'.\n"
     ]
    },
    {
     "data": {
      "image/png": "[encoded data removed]",
      "text/plain": [
       "<Figure size 640x480 with 2 Axes>"
      ]
     },
     "metadata": {},
     "output_type": "display_data"
    },
    {
     "data": {
      "text/plain": [
       "<ggplot: (357303037)>"
      ]
     },
     "execution_count": 334,
     "metadata": {},
     "output_type": "execute_result"
    }
   ],
   "source": [
    "df = pd.DataFrame({'alpha': alpha_est, 'nu': nu_est})\n",
    "df = pd.melt(df)\n",
    "(ggplot(df, aes(x='value')) +\n",
    " geom_histogram() +\n",
    " scale_x_log10() +\n",
    " facet_wrap('variable'))"
   ]
  }
 ],
 "metadata": {
  "kernelspec": {
   "display_name": "Python 3",
   "language": "python",
   "name": "python3"
  },
  "language_info": {
   "codemirror_mode": {
    "name": "ipython",
    "version": 3
   },
   "file_extension": ".py",
   "mimetype": "text/x-python",
   "name": "python",
   "nbconvert_exporter": "python",
   "pygments_lexer": "ipython3",
   "version": "3.7.7"
  }
 },
 "nbformat": 4,
 "nbformat_minor": 2
}
