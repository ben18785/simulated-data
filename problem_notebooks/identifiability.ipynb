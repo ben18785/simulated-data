{
 "cells": [
  {
   "cell_type": "markdown",
   "metadata": {},
   "source": [
    "# Tumour growth\n",
    "\n",
    "In this exercise we are going to use simulated data from a model of tumour growth to investigate the identifiability of two of its parameters."
   ]
  },
  {
   "cell_type": "markdown",
   "metadata": {},
   "source": [
    "The differential equation:\n",
    "\n",
    "\\begin{equation}\n",
    "\\frac{dy}{dt} = \\alpha y(1 - \\left(\\frac{y}{\\kappa}\\right)^\\nu),\n",
    "\\end{equation}\n",
    "\n",
    "has $y(0) = y_0$ as the initial condition. This system has a solution of the form:\n",
    "\n",
    "\\begin{equation}\n",
    "y(t) = \\frac{\\kappa}{\\left(1 + \\left(\\left(\\frac{\\kappa}{y_0}\\right)^\\nu - 1\\right)\\exp(-\\alpha \\nu t)\\right)^{1/\\nu}},\n",
    "\\end{equation}\n",
    "\n",
    "which results in a modified logistic-type curve that can be used to model tumour growth."
   ]
  },
  {
   "cell_type": "markdown",
   "metadata": {},
   "source": [
    "Write a function which can simulate from this model."
   ]
  },
  {
   "cell_type": "markdown",
   "metadata": {},
   "source": [
    "We first assume there is no noise in the system and that the outputs are measured at 20 uniform grid points between $t=0$ and $t=20$. Generate data assuming $\\alpha=1$, $\\nu=2$, $\\kappa=100$ and $y_0=1$."
   ]
  },
  {
   "cell_type": "markdown",
   "metadata": {},
   "source": [
    "Write a function which takes these outputs, $y(t)$, and determines a root-mean-square (rmse) distance from the points to a model simulation with given values of $\\alpha, \\nu, \\kappa, y_0$. That is, we suppose there are errors:\n",
    "\n",
    "\\begin{equation}\n",
    "error(t) = y(t) - \\frac{\\kappa}{\\left(1 + \\left(\\left(\\frac{\\kappa}{y_0}\\right)^\\nu - 1\\right)\\exp(-\\alpha \\nu t)\\right)^{1/\\nu}},\n",
    "\\end{equation}\n",
    "\n",
    "which result in a sum of squared errors:\n",
    "\n",
    "\\begin{equation}\n",
    "sse = \\sum_{t=t_1}^{t=t_T} error(t)^2,\n",
    "\\end{equation}\n",
    "\n",
    "and a root-mean-square distance:\n",
    "\n",
    "\\begin{equation}\n",
    "rmse = \\sqrt{sse/T}.\n",
    "\\end{equation}"
   ]
  },
  {
   "cell_type": "markdown",
   "metadata": {},
   "source": [
    "Using your function, plot the rmse distance as you vary $\\alpha$ holding all the other parameters at their true values."
   ]
  },
  {
   "cell_type": "markdown",
   "metadata": {},
   "source": [
    "Now repeat the same exercise for $\\nu$."
   ]
  },
  {
   "cell_type": "markdown",
   "metadata": {},
   "source": [
    "Draw a contour plot visualising the rmse surface when you vary both $\\alpha$ and $\\nu$."
   ]
  },
  {
   "cell_type": "markdown",
   "metadata": {},
   "source": [
    "What does this plot suggest about the relative identifiability of $\\alpha$ versus $\\nu$?"
   ]
  },
  {
   "cell_type": "markdown",
   "metadata": {},
   "source": [
    "We are now going to assume that there is additive measurement noise on the data of the form:\n",
    "    \n",
    "\\begin{equation}\n",
    "\\tilde y(t) \\sim \\text{normal}(y(t), \\sigma),\n",
    "\\end{equation}\n",
    "\n",
    "where $\\sigma=20$."
   ]
  },
  {
   "cell_type": "markdown",
   "metadata": {},
   "source": [
    "Generate such noisy data using the same parameters and at the same time steps as before."
   ]
  },
  {
   "cell_type": "markdown",
   "metadata": {},
   "source": [
    "Using Scipy's `minimize` function, write a function that estimates $\\alpha$ and $\\nu$ holding all other parameters at their true values. Then use it to estimate the parameters."
   ]
  },
  {
   "cell_type": "markdown",
   "metadata": {},
   "source": [
    "Generate 200 replicates where, in each case, you generate noisy data as before and estimate the parameters. Graph the resultant estimates for $\\alpha$ and $\\nu$. What does this tell you about their identifiability?"
   ]
  }
 ],
 "metadata": {
  "kernelspec": {
   "display_name": "Python 3",
   "language": "python",
   "name": "python3"
  },
  "language_info": {
   "codemirror_mode": {
    "name": "ipython",
    "version": 3
   },
   "file_extension": ".py",
   "mimetype": "text/x-python",
   "name": "python",
   "nbconvert_exporter": "python",
   "pygments_lexer": "ipython3",
   "version": "3.7.7"
  }
 },
 "nbformat": 4,
 "nbformat_minor": 2
}
