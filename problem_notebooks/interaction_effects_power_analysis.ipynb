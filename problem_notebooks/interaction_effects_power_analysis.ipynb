{
 "cells": [
  {
   "cell_type": "markdown",
   "metadata": {},
   "source": [
    "# Power analysis of interaction effects"
   ]
  },
  {
   "cell_type": "markdown",
   "metadata": {},
   "source": [
    "In this example, we are going to perform a simulation analysis of a regression model and use it to determine the power to detect so-called \"main\" and \"interaction\" effects."
   ]
  },
  {
   "cell_type": "markdown",
   "metadata": {},
   "source": [
    "Suppose that the value of a house, $H_i>0$, depends linearly on its square footage, $S_i>0$ and whether it has a swimming pool, $P_i\\in\\{0,1\\}$. Further, we believe that there is probably an interaction effect: if a house has a swimming pool, increases in its size have greater impacts on its price. One way to represent this relationship is via the below model:\n",
    "\n",
    "$H_i = \\alpha + \\beta S_i + \\gamma P_i + \\delta P_i S_i + \\epsilon_i$.\n",
    "\n",
    "where $\\epsilon_i\\sim N(0, \\sigma)$ represents a random error term."
   ]
  },
  {
   "cell_type": "markdown",
   "metadata": {},
   "source": [
    "Explain why this model allows such an interaction effect."
   ]
  },
  {
   "cell_type": "markdown",
   "metadata": {},
   "source": [
    "Generate $(H_i, S_i, P_i)$ data for 100 houses by generating:\n",
    "\n",
    "$S_i\\sim N(0, 1)$\n",
    "\n",
    "$P_i \\sim \\text{Bernoulli}(0.5)$,\n",
    "\n",
    "with $\\alpha=0$, $\\beta=0.5$, $\\gamma=0.5$, $\\delta=0.1$, $\\sigma=0.5$. (Note, here we are assuming scaled units for everything!)"
   ]
  },
  {
   "cell_type": "markdown",
   "metadata": {},
   "source": [
    "Plot house price vs size for houses with and without swimming pools."
   ]
  },
  {
   "cell_type": "markdown",
   "metadata": {},
   "source": [
    "Now write a function to perform the linear regression of the model. Your function should return the coefficients and $p$-values on $\\gamma$ and $\\delta$."
   ]
  },
  {
   "cell_type": "markdown",
   "metadata": {},
   "source": [
    "Create a function which generates $S$, $P$ and $H$ for a given number of houses, which uses the same set of parameters as before. Then using these variables, performs a regression and returns the coefficients and $p$-values on $\\gamma$ and $\\delta$."
   ]
  },
  {
   "cell_type": "markdown",
   "metadata": {},
   "source": [
    "Using 100 iterates at a range of sample sizes from 20 to 5000, calculate the power to detect $\\gamma$ and $\\delta$ at the 5% level."
   ]
  },
  {
   "cell_type": "markdown",
   "metadata": {},
   "source": [
    "What do you conclude about the power to detect interaction effects compared with main effects?"
   ]
  },
  {
   "cell_type": "markdown",
   "metadata": {},
   "source": [
    "Using a sample size of 100, carry out 1000 replicates where, in each, you estimate $\\delta$ and its $p$-value. Draw a histogram of the delta values: how does the distribution compare to the true value?"
   ]
  },
  {
   "cell_type": "markdown",
   "metadata": {},
   "source": [
    "Now, keep only those $\\delta$ values which are of the correct sign and where $p<0.05$. How do those estimates of delta compare to the true values?"
   ]
  },
  {
   "cell_type": "markdown",
   "metadata": {},
   "source": [
    "What do you conclude about the risks of using tests with weak power?"
   ]
  },
  {
   "cell_type": "markdown",
   "metadata": {},
   "source": [
    "If you use them and find a significant effect, it'll likely be a large overestimate!"
   ]
  }
 ],
 "metadata": {
  "kernelspec": {
   "display_name": "Python 3",
   "language": "python",
   "name": "python3"
  },
  "language_info": {
   "codemirror_mode": {
    "name": "ipython",
    "version": 3
   },
   "file_extension": ".py",
   "mimetype": "text/x-python",
   "name": "python",
   "nbconvert_exporter": "python",
   "pygments_lexer": "ipython3",
   "version": "3.7.7"
  }
 },
 "nbformat": 4,
 "nbformat_minor": 2
}
