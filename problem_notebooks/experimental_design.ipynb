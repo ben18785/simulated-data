{
 "cells": [
  {
   "cell_type": "markdown",
   "metadata": {},
   "source": [
    "# Where to measure the logistic curve?\n",
    "\n",
    "This example illustrates the use of simulated data to determine how best to measure a system to estimate its parameters. It also uses parameter sensitivities to explain these results."
   ]
  },
  {
   "cell_type": "markdown",
   "metadata": {},
   "source": [
    "The differential equation:\n",
    "\n",
    "\\begin{equation}\n",
    "\\frac{dy}{dt} = \\alpha y\\left(1 - \\frac{y}{\\kappa}\\right),\n",
    "\\end{equation}\n",
    "\n",
    "has $y(0) = y_0$ as the initial condition. This system has a solution of the form:\n",
    "\n",
    "\\begin{equation}\n",
    "y(t) = \\frac{\\kappa}{1 + \\left(\\frac{\\kappa-y_0}{y_0}\\right)\\exp(-\\alpha t)},\n",
    "\\end{equation}\n",
    "\n",
    "which results in a logistic curve, which is used throughout mathematical biology.\n",
    "\n",
    "We assume that the system can be measured at any discrete times between $t=0$ and $t=20$. The measurement, however, is imperfect and results in noisy observed data:\n",
    "\n",
    "\\begin{equation}\n",
    "\\tilde y(t) \\sim \\text{normal}(y(t), \\sigma).\n",
    "\\end{equation}"
   ]
  },
  {
   "cell_type": "markdown",
   "metadata": {},
   "source": [
    "Write a function to solve the logistic equation."
   ]
  },
  {
   "cell_type": "markdown",
   "metadata": {},
   "source": [
    "Determine the sensitivitity of $y(t)$ with respect to each of $\\alpha$ and $\\kappa$."
   ]
  },
  {
   "cell_type": "markdown",
   "metadata": {},
   "source": [
    "Assuming $\\alpha=1$, $\\kappa=100$ and $y_0=1$, plot these sensitivities over time."
   ]
  },
  {
   "cell_type": "markdown",
   "metadata": {},
   "source": [
    "Suppose that you believed $\\alpha=1$, $\\kappa=100$ and $y_0=1$ were the most likely set of parameters a priori. If you were only allowed to measure the system once, approximately which $t$ value should you pick to estimate $\\alpha$?"
   ]
  },
  {
   "cell_type": "markdown",
   "metadata": {},
   "source": [
    "Similarly, if you could only measure the system once, where should you measure it to estimate $\\kappa$?"
   ]
  },
  {
   "cell_type": "markdown",
   "metadata": {},
   "source": [
    "Write a function to generate discrete measurements from the system at a series of time points."
   ]
  },
  {
   "cell_type": "markdown",
   "metadata": {},
   "source": [
    "Using Scipy's `minimize` function, write a function that calculates root-mean-square distance (rmse) between your observations and model solutions across all time points.\n",
    "\n",
    "That is, we suppose there are errors:\n",
    "\n",
    "\\begin{equation}\n",
    "error(t) = y(t) - \\frac{\\kappa}{1 + \\left(\\frac{\\kappa-y_0}{y_0}\\right)\\exp(-\\alpha t)},\n",
    "\\end{equation}\n",
    "\n",
    "which result in a sum of squared errors:\n",
    "\n",
    "\\begin{equation}\n",
    "sse = \\sum_{t=t_1}^{t=t_T} error(t)^2,\n",
    "\\end{equation}\n",
    "\n",
    "and a root-mean-square distance:\n",
    "\n",
    "\\begin{equation}\n",
    "rmse = \\sqrt{sse/T}.\n",
    "\\end{equation}"
   ]
  },
  {
   "cell_type": "markdown",
   "metadata": {},
   "source": [
    "Using Scipy's `minimize` function, write a function that estimates $\\alpha$ and $\\kappa$ using a series of measurements assuming $y_0=1$."
   ]
  },
  {
   "cell_type": "markdown",
   "metadata": {},
   "source": [
    "Write a function which simulates measured data using known values of $\\alpha$, $\\kappa$ and $\\sigma$ and uses this to estimate $\\alpha$ and $\\kappa$ assuming $y_0=1$."
   ]
  },
  {
   "cell_type": "markdown",
   "metadata": {},
   "source": [
    "Assume $\\alpha=1$, $\\kappa=100$, $y_0=1$ and $\\sigma=10$. Suppose that you have two measurement schemes available:\n",
    "\n",
    "- 10 uniformly gridded measurements between $t=2$ and $t=8$.\n",
    "- 10 uniformly gridded measurements between $t=15$ and $t=20$.\n",
    "\n",
    "Using 100 replicates for each of these schemes, show that the former produces better estimates of $\\alpha$. Show that the reverse is true for $\\kappa$."
   ]
  }
 ],
 "metadata": {
  "kernelspec": {
   "display_name": "Python 3",
   "language": "python",
   "name": "python3"
  },
  "language_info": {
   "codemirror_mode": {
    "name": "ipython",
    "version": 3
   },
   "file_extension": ".py",
   "mimetype": "text/x-python",
   "name": "python",
   "nbconvert_exporter": "python",
   "pygments_lexer": "ipython3",
   "version": "3.7.7"
  }
 },
 "nbformat": 4,
 "nbformat_minor": 2
}
